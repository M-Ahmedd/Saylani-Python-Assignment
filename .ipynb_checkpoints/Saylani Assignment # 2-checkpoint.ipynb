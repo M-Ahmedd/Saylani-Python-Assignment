{
 "cells": [
  {
   "cell_type": "code",
   "execution_count": 10,
   "metadata": {
    "collapsed": false,
    "scrolled": true
   },
   "outputs": [
    {
     "name": "stdout",
     "output_type": "stream",
     "text": [
      "Enter you maths marks: 76\n",
      "Enter you maths marks: 89\n",
      "Enter you maths marks: 96\n",
      "Enter you maths marks: 80\n",
      "Enter you maths marks: 69\n",
      "The total marks obtained is 410\n",
      "The Grade Occur is A+\n"
     ]
    }
   ],
   "source": [
    "math = int(input(\"Enter you maths marks: \"))\n",
    "Isl = int(input(\"Enter you maths marks: \"))\n",
    "Physic = int(input(\"Enter you maths marks: \"))\n",
    "Chemistry = int(input(\"Enter you maths marks: \"))\n",
    "English = int(input(\"Enter you maths marks: \"))\n",
    "\n",
    "Marks_Obt = sum((math , Isl , Physic , Chemistry , English))\n",
    "total_marks = 500\n",
    "\n",
    "Per = (Marks_Obt / total_marks) * 100\n",
    "if Per >= 80:\n",
    "    Grade = \"A+\"\n",
    "elif Per >=70 and Per < 80:\n",
    "    Grade = \"A\"\n",
    "elif Per >=60 and Per < 70:\n",
    "    Grade = \"B\"\n",
    "elif Per >=50 and Per < 60:\n",
    "    Grade = \"C\"\n",
    "else:\n",
    "    Grade = \"Fail\"\n",
    "\n",
    "print(\"The total marks obtained is\",Marks_Obt)\n",
    "print(\"The Grade Occur is\",Grade)"
   ]
  },
  {
   "cell_type": "code",
   "execution_count": 12,
   "metadata": {
    "collapsed": false
   },
   "outputs": [
    {
     "name": "stdout",
     "output_type": "stream",
     "text": [
      "Enter a Number: 3\n",
      "ODD\n"
     ]
    }
   ],
   "source": [
    "num = int(input(\"Enter a Number: \"))\n",
    "if num % 2 ==0:\n",
    "    print(\"Even\")\n",
    "else:\n",
    "    print(\"ODD\")"
   ]
  },
  {
   "cell_type": "code",
   "execution_count": 15,
   "metadata": {
    "collapsed": false,
    "scrolled": true
   },
   "outputs": [
    {
     "name": "stdout",
     "output_type": "stream",
     "text": [
      "[0, 1, 2, 3, 4, 5, 6, 7, 8, 9]\n",
      "The length of the above list is 10\n"
     ]
    }
   ],
   "source": [
    "l_num = list(range(10))\n",
    "print(l_num)\n",
    "print(\"The length of the above list is\",len(l_num))"
   ]
  },
  {
   "cell_type": "code",
   "execution_count": 23,
   "metadata": {
    "collapsed": false
   },
   "outputs": [
    {
     "name": "stdout",
     "output_type": "stream",
     "text": [
      "The sum of all numeric number is 45\n"
     ]
    }
   ],
   "source": [
    "data = [\"Ahmed\",'Ali','Wahab',2,3,5,'Rehan',23,12,'Kashif']\n",
    "num = []\n",
    "for i in data:\n",
    "  if str(i).isalpha():\n",
    "    pass\n",
    "  else:\n",
    "    num.append(i)\n",
    "    \n",
    "print('The sum of all numeric number is',sum(num))"
   ]
  },
  {
   "cell_type": "code",
   "execution_count": 25,
   "metadata": {
    "collapsed": false
   },
   "outputs": [
    {
     "name": "stdout",
     "output_type": "stream",
     "text": [
      "The largest num is 99\n"
     ]
    }
   ],
   "source": [
    "a = list(range(1,100))\n",
    "print('The largest num is' , max(a))"
   ]
  },
  {
   "cell_type": "code",
   "execution_count": 26,
   "metadata": {
    "collapsed": false
   },
   "outputs": [
    {
     "name": "stdout",
     "output_type": "stream",
     "text": [
      "1\n",
      "1\n",
      "2\n",
      "3\n"
     ]
    }
   ],
   "source": [
    "a = [1,1,2,3,5,8,13,21,34,55,89]\n",
    "for i in a:\n",
    "    if i < 5:\n",
    "        print(i)"
   ]
  }
 ],
 "metadata": {
  "kernelspec": {
   "display_name": "Python 3",
   "language": "python",
   "name": "python3"
  },
  "language_info": {
   "codemirror_mode": {
    "name": "ipython",
    "version": 3
   },
   "file_extension": ".py",
   "mimetype": "text/x-python",
   "name": "python",
   "nbconvert_exporter": "python",
   "pygments_lexer": "ipython3",
   "version": "3.6.0"
  }
 },
 "nbformat": 4,
 "nbformat_minor": 2
}
