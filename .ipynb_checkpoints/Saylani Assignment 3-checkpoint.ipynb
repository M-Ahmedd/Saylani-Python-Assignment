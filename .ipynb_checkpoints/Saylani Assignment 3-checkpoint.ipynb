{
 "cells": [
  {
   "cell_type": "code",
   "execution_count": 5,
   "metadata": {
    "collapsed": false,
    "scrolled": true
   },
   "outputs": [
    {
     "name": "stdout",
     "output_type": "stream",
     "text": [
      "Here is a Calculator: \n",
      "Enter your First Number: 3\n",
      "Please input operator + , - , * , ** /\n",
      "Enter your Second Number: 3\n",
      "1.0\n"
     ]
    }
   ],
   "source": [
    "# Q1\n",
    "print('Here is a Calculator: ')\n",
    "num1 = int(input('Enter your First Number: '))\n",
    "operator = input('Please input operator + , - , * , ** ')\n",
    "num2 = int(input('Enter your Second Number: '))\n",
    "if operator == \"addition\" or operator == '+' or operator == 'Addition' or operator == 'Add':\n",
    "    print(num1 + num2)\n",
    "elif operator == \"Subtract\" or operator == '-' or operator == 'Subtraction' or operator == 'minus':\n",
    "    print(num1 - num2)\n",
    "elif operator == \"Multiply\" or operator == '*':\n",
    "    print(num1*num2)\n",
    "elif operator == \"power\" or operator == '^' or operator == '**' or operator == 'Power':\n",
    "    print(num1**num2)\n",
    "elif operator == \"Divide\" or operator == '/' or operator == 'division' or operator == 'divide':\n",
    "    print(num1 / num2)\n",
    "else:\n",
    "    print(\"please select appropriate operator\")"
   ]
  },
  {
   "cell_type": "code",
   "execution_count": 6,
   "metadata": {
    "collapsed": false,
    "scrolled": true
   },
   "outputs": [
    {
     "name": "stdout",
     "output_type": "stream",
     "text": [
      "Numeric Values Exists\n"
     ]
    }
   ],
   "source": [
    "# Q2\n",
    "list_of_car = ['Corrola','Civic','Toyyota', ' Mazda', 232, 'Aulto' , 54]\n",
    "for i in list_of_car:\n",
    "    if str(i).isdigit():\n",
    "        print('Numeric Values Exists')\n",
    "        break"
   ]
  },
  {
   "cell_type": "code",
   "execution_count": 8,
   "metadata": {
    "collapsed": false,
    "scrolled": true
   },
   "outputs": [
    {
     "name": "stdout",
     "output_type": "stream",
     "text": [
      "{'first name': 'Muhammad', 'last name': 'Ahmed Khan', 'Age': 23, 'City': 'Karachi'}\n"
     ]
    }
   ],
   "source": [
    "#Q3\n",
    "full_Name = {'first name':'Muhammad', 'last name':'Ahmed Khan' }\n",
    "full_Name['Age'] = 23\n",
    "full_Name['City'] = 'Karachi'\n",
    "print(full_Name)"
   ]
  },
  {
   "cell_type": "code",
   "execution_count": 14,
   "metadata": {
    "collapsed": false
   },
   "outputs": [
    {
     "name": "stdout",
     "output_type": "stream",
     "text": [
      "Ther sum of the numeric item in dic are: 18\n"
     ]
    }
   ],
   "source": [
    "# Q4\n",
    "dic = {'One':1 , 'two':2 , 'three': 4 , 'five':5 , 'Six': 6}\n",
    "res =[]\n",
    "for j in dic.values():\n",
    "    if str(j).isdigit:\n",
    "        res.append(j)\n",
    "        \n",
    "print('Ther sum of the numeric item in dic are:',sum(res))"
   ]
  },
  {
   "cell_type": "code",
   "execution_count": 22,
   "metadata": {
    "collapsed": false
   },
   "outputs": [
    {
     "name": "stdout",
     "output_type": "stream",
     "text": [
      "The list of duplicate Values are: ['Ahmed', 'Ali']\n"
     ]
    }
   ],
   "source": [
    "#Q5\n",
    "unique=[]\n",
    "a = ['Ahmed','Ali','Wahab','Ahmed','Waqas','Rehan','Ali','Hamza']\n",
    "dic = {}\n",
    "duplicate = []\n",
    "for i in a:\n",
    "    if i not in dic:\n",
    "        dic[i] = 1\n",
    "    else:\n",
    "        if dic[i] == 1:\n",
    "            duplicate.append(i)\n",
    "        dic[i] += 1\n",
    "        \n",
    "print('The list of duplicate Values are:',duplicate)"
   ]
  },
  {
   "cell_type": "code",
   "execution_count": null,
   "metadata": {
    "collapsed": false
   },
   "outputs": [],
   "source": [
    "#Q6\n",
    "info = {'Ahmed':'C' , 'Ali': 'VB.net' , 'Ahmed':'VBA' , 'Hasan':'R' , 'Ahsan':'python' ,'Hasan':'R' , 'Fahad':'C'}\n",
    "key = input('Enter a Key: ')\n",
    "if key in info:\n",
    "    print(\"Key exist in Dict\")\n",
    "else:\n",
    "    print(\"No key exist\")"
   ]
  }
 ],
 "metadata": {
  "kernelspec": {
   "display_name": "Python 3",
   "language": "python",
   "name": "python3"
  },
  "language_info": {
   "codemirror_mode": {
    "name": "ipython",
    "version": 3
   },
   "file_extension": ".py",
   "mimetype": "text/x-python",
   "name": "python",
   "nbconvert_exporter": "python",
   "pygments_lexer": "ipython3",
   "version": "3.6.0"
  }
 },
 "nbformat": 4,
 "nbformat_minor": 2
}
