{
 "cells": [
  {
   "cell_type": "markdown",
   "metadata": {},
   "source": [
    "Ans:1\n",
    "Object Oriented Programming is a way of solving complex problems by breaking them into smaller problems using objects."
   ]
  },
  {
   "cell_type": "markdown",
   "metadata": {},
   "source": [
    "Ans:2\n",
    "\n",
    "1. Simplicity: software objects model real world objects, so the complexity is reduced and the program structure is very clear; \n",
    "2. Modularity: each object forms a separate entity whose internal workings are decoupled from other parts of the system; \n",
    "3. Modifiability: it is easy to make minor changes in the data representation or the procedures in an OO program. Changes inside a class do not affect any other part of a program, since the only public interface that the external world has to a class is through the use of methods; \n",
    "4. Extensibility: adding new features or responding to changing operating environments can be solved by introducing a few new objects and modifying some existing ones; \n",
    "5. Maintainability: objects can be maintained separately, making locating and fixing problems easier; \n",
    "6. Re-usability: objects can be reused in different programs\n"
   ]
  },
  {
   "cell_type": "markdown",
   "metadata": {},
   "source": [
    "Ans:3\n",
    "    \n",
    "Method and a function are the same, with different terms. A method is a procedure or function in object-oriented programming.\n",
    "A function is a group of reusable code which can be called anywhere in your program. This eliminates the need for writing the same code again and again.\n"
   ]
  },
  {
   "cell_type": "markdown",
   "metadata": {},
   "source": [
    "Ans:4\n",
    "    \n",
    "Class:\n",
    "The class is a blueprint that defines a nature of a future object\n",
    "Object:\n",
    "Everything in the world which have a name is called Object:\n",
    "Attribute:\n",
    "It is defined the feature of the project.\n",
    "Behavior:\n",
    "It is define as all the action perform by the Object.\n"
   ]
  },
  {
   "cell_type": "code",
   "execution_count": 8,
   "metadata": {},
   "outputs": [],
   "source": [
    "class Car():\n",
    "    def __init__(self,model,color,make,year,speed):\n",
    "        self.model = model\n",
    "        self.color = color\n",
    "        self.make = make\n",
    "        self.year = year\n",
    "        self.speed = speed\n",
    "        \n",
    "    def descriptive_info(self):\n",
    "        full_name = self.make + \" \" + self.model + \" \" + self.year\n",
    "        \n",
    "        return full_name\n",
    "    \n",
    "    def get_color(self):\n",
    "        colors = self.color\n",
    "        return color\n",
    "    \n",
    "    def total_speed(self):\n",
    "        speedest = self.speed\n",
    "        return speedest\n",
    "    \n",
    "    "
   ]
  },
  {
   "cell_type": "code",
   "execution_count": 10,
   "metadata": {},
   "outputs": [],
   "source": [
    "obj1 = Car('Original','Black','Toyyota', '2019','200km')\n",
    "obj2 = Car('Branded','Black','Suzukki', '2019','200km')\n",
    "obj3 = Car('New-Style','Black','Nissani', '2019','200km')\n",
    "obj4 = Car('Old Model','Black','Hyundai', '2019','200km')\n",
    "obj5 = Car('New-Generation','Black','Prado', '2019','200km')\n"
   ]
  }
 ],
 "metadata": {
  "kernelspec": {
   "display_name": "Python 3",
   "language": "python",
   "name": "python3"
  },
  "language_info": {
   "codemirror_mode": {
    "name": "ipython",
    "version": 3
   },
   "file_extension": ".py",
   "mimetype": "text/x-python",
   "name": "python",
   "nbconvert_exporter": "python",
   "pygments_lexer": "ipython3",
   "version": "3.7.4"
  }
 },
 "nbformat": 4,
 "nbformat_minor": 2
}
