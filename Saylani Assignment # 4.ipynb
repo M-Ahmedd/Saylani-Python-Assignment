{
 "cells": [
  {
   "cell_type": "code",
   "execution_count": 14,
   "metadata": {
    "collapsed": false
   },
   "outputs": [
    {
     "name": "stdout",
     "output_type": "stream",
     "text": [
      "key: first name\n",
      "value: Muhammad Ahmed\n",
      "\n",
      "key: last name\n",
      "value: Khan\n",
      "\n",
      "key: Age\n",
      "value: 24\n",
      "\n",
      "key: City\n",
      "value: Karachi\n",
      "\n",
      "Original User_Info Dictionary:\n",
      "{'first name': 'Muhammad Ahmed', 'last name': 'Khan', 'Age': 24, 'City': 'Karachi', 'Qualification': 'Secondary Education'}\n",
      "\n",
      "Updated User_Info:\n",
      "{'first name': 'Muhammad Ahmed', 'last name': 'Khan', 'Age': 24, 'City': 'Karachi', 'Qualification': 'Higher Education'}\n",
      "\n",
      "After Deleting the Qualification:\n",
      "{'first name': 'Muhammad Ahmed', 'last name': 'Khan', 'Age': 24, 'City': 'Karachi'}\n"
     ]
    }
   ],
   "source": [
    "#Q1\n",
    "user_info = {'first name':'Muhammad Ahmed' , 'last name': 'Khan', 'Age': 24 , 'City':'Karachi'}\n",
    "for k , v in user_info.items():\n",
    "    print('key:' ,k)\n",
    "    print('value:',v)\n",
    "    print(\"\")\n",
    "user_info['Qualification'] = 'Secondary Education'\n",
    "print(\"Original User_Info Dictionary:\")\n",
    "\n",
    "print(user_info)\n",
    "print(\"\")\n",
    "user_info['Qualification'] = 'Higher Education'\n",
    "print(\"Updated User_Info:\")\n",
    "\n",
    "print(user_info)\n",
    "print(\"\")\n",
    "print('After Deleting the Qualification:')\n",
    "del user_info['Qualification']\n",
    "print(user_info)"
   ]
  },
  {
   "cell_type": "code",
   "execution_count": 5,
   "metadata": {
    "collapsed": false,
    "scrolled": true
   },
   "outputs": [
    {
     "name": "stdout",
     "output_type": "stream",
     "text": [
      "\n",
      "Lahore is in Pak.\n",
      "  It has a population of about 2332422.\n",
      "  The fact name is Raiwand\n",
      "\n",
      "Karachi is in Pak.\n",
      "  It has a population of about 23133131.\n",
      "  The fact name is Sea View\n",
      "\n",
      "Islamabad is in Pak.\n",
      "  It has a population of about 4545423.\n",
      "  The fact name is Metro Road\n"
     ]
    }
   ],
   "source": [
    "cities = {\n",
    "    'Lahore': {\n",
    "        'country': 'Pak',\n",
    "        'population': 2332422,\n",
    "        'Place': 'Raiwand',\n",
    "        },\n",
    "    'Karachi': {\n",
    "        'country': 'Pak',\n",
    "        'population': 23133131,\n",
    "        'Place': 'Sea View',\n",
    "        },\n",
    "    'Islamabad': {\n",
    "        'country': 'Pak',\n",
    "        'population': 4545423,\n",
    "        'Place': 'Metro Road',\n",
    "        }\n",
    "    }\n",
    "\n",
    "for city, city_info in cities.items():\n",
    "    country = city_info['country'].title()\n",
    "    population = city_info['population']\n",
    "    Fact = city_info['Place'].title()\n",
    "\n",
    "    print(\"\\n\" + city.title() + \" is in \" + country + \".\")\n",
    "    print(\"  It has a population of about \" + str(population) + \".\")\n",
    "    print(\"  The fact name is \" + Fact )"
   ]
  },
  {
   "cell_type": "code",
   "execution_count": 5,
   "metadata": {
    "collapsed": false,
    "scrolled": true
   },
   "outputs": [
    {
     "name": "stdout",
     "output_type": "stream",
     "text": [
      "Enter your age Enter 'q' to quit: 15\n",
      "  Your ticket is $15.\n",
      "Enter your age Enter 'q' to quit: 13\n",
      "  Your ticket is $15.\n",
      "Enter your age Enter 'q' to quit: q\n"
     ]
    }
   ],
   "source": [
    "# Q3\n",
    "prompt = \"Enter your age\"\n",
    "prompt += \" Enter 'q' to quit: \"\n",
    "\n",
    "while True:\n",
    "    age = input(prompt)\n",
    "    if age == 'q':\n",
    "        break\n",
    "    age = int(age)\n",
    "\n",
    "    if age < 3:\n",
    "        print(\"  You get in free!\")\n",
    "    elif age < 13:\n",
    "        print(\"  Your ticket is $10.\")\n",
    "    else:\n",
    "        print(\"  Your ticket is $15.\")"
   ]
  },
  {
   "cell_type": "code",
   "execution_count": 6,
   "metadata": {
    "collapsed": false
   },
   "outputs": [
    {
     "name": "stdout",
     "output_type": "stream",
     "text": [
      "One of my favourite books is Block Chain in Pakistan\n"
     ]
    }
   ],
   "source": [
    "# Q4\n",
    "def book(title):\n",
    "    print('One of my favourite books is ' + title + \" in Pakistan\")\n",
    "    \n",
    "book('Block Chain')"
   ]
  },
  {
   "cell_type": "code",
   "execution_count": 10,
   "metadata": {
    "collapsed": false
   },
   "outputs": [
    {
     "name": "stdout",
     "output_type": "stream",
     "text": [
      "Enter a number: 1\n",
      "your number is low\n"
     ]
    }
   ],
   "source": [
    "# Q5\n",
    "import numpy as np\n",
    "a = np.random.randint(1,30)\n",
    "user_inp = int(input(\"Enter a number: \"))\n",
    "if user_inp == a:\n",
    "    print('You got it the number')\n",
    "elif user_inp > a:\n",
    "    print('your number is high')\n",
    "elif user_inp < a:\n",
    "    print('your number is low')\n",
    "else:\n",
    "    print('Number too low')"
   ]
  }
 ],
 "metadata": {
  "kernelspec": {
   "display_name": "Python 3",
   "language": "python",
   "name": "python3"
  },
  "language_info": {
   "codemirror_mode": {
    "name": "ipython",
    "version": 3
   },
   "file_extension": ".py",
   "mimetype": "text/x-python",
   "name": "python",
   "nbconvert_exporter": "python",
   "pygments_lexer": "ipython3",
   "version": "3.6.0"
  }
 },
 "nbformat": 4,
 "nbformat_minor": 2
}
